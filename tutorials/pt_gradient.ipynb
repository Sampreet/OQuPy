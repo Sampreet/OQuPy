{
 "cells": [
  {
   "cell_type": "markdown",
   "metadata": {},
   "source": [
    "# PT Gradient\n",
    "\n",
    "An example of how to compute the derivative of an objective function of the final state with respect to a set of system parameters or 'controls' using the OQuPy package. A more detailed explanation of the method can be found in the supplement [Butler2023] (https://arxiv.org/abs/2303.16002).\n",
    "* [launch binder](https://mybinder.org/v2/gh/tempoCollaboration/OQuPy/HEAD?labpath=tutorials%2Fpt_gradient.ipynb) \n",
    "* [download the jupyter file](https://raw.githubusercontent.com/tempoCollaboration/OQuPy/main/tutorials/pt_gradient.ipynb)\n",
    "* read through the text below and code along"
   ]
  },
  {
   "cell_type": "markdown",
   "metadata": {},
   "source": [
    "The following packages are required"
   ]
  },
  {
   "cell_type": "code",
   "execution_count": 1,
   "metadata": {},
   "outputs": [],
   "source": [
    "import sys\n",
    "sys.path.insert(0,'..')\n",
    "import numpy as np\n",
    "import oqupy\n",
    "from oqupy import operators as op\n",
    "import matplotlib.pyplot as plt"
   ]
  },
  {
   "cell_type": "markdown",
   "metadata": {},
   "source": [
    "The OQuPy version should be `>=v0.5.0`"
   ]
  },
  {
   "cell_type": "code",
   "execution_count": 2,
   "metadata": {},
   "outputs": [
    {
     "data": {
      "text/plain": [
       "'0.4.0'"
      ]
     },
     "execution_count": 2,
     "metadata": {},
     "output_type": "execute_result"
    }
   ],
   "source": [
    "oqupy.__version__"
   ]
  },
  {
   "cell_type": "markdown",
   "metadata": {},
   "source": [
    "# Contents \n",
    "\n",
    "* [0. Introduction](#introduction)\n",
    "\n",
    "* [1. Example : Spin Boson Model](#example---spin-boson-model)\n",
    "    - [1.1 System](#1-system-definition)\n",
    "\n",
    "    - [1.2 Process Tensor generation](#2-process-tensor-generation)\n",
    "\n",
    "    - [1.3 Objective Function : The Fidelity](#3-objective-function-the-fidelity)\n",
    "    \n",
    "    - [1.4 Adjoint method](#4-adjoint-method)\n"
   ]
  },
  {
   "cell_type": "markdown",
   "metadata": {},
   "source": [
    "# Introduction\n",
    "\n",
    "<a id='introduction'></a>\n",
    "\n",
    "The process tensor approach to open quantum systems allows to efficiently optimize control protocols of non-Markovian open quantum systems (see [Fux2020, Butler2023]). For this one first computes the process tensor in MPO form of the given environment interaction and then repeatedly applies different time-dependent system Hamiltonians. This has the advantage that each trial system Hamiltonian can be applied with minimal computational efford to the same precomputed process tensor.\n",
    "\n",
    "Such a computation of the open dynamics for a set of different time-dependent system Hamiltonians is demonstrated in the tutorial \"Time dependence and PT-TEMPO\". The search for an optimal protocol can, however, be accelerated drastically by computing the gradient of the objective function with respect to some parametrization of the system Hamiltonian.\n",
    "\n",
    "In this tutorial we demonstrate the computation of the gradient of some generic objective function $Z(\\rho_f)$ which only depends on the value of the final density matrix $\\rho_f$. Let's assume that we parametrize the system Hamiltonian with $M$ parameters each at time step. The derivative of the objective function $Z$ with respect to the $m^\\mathrm{th}$ parameter at the $n^\\mathrm{th}$ time step $c_m^n$ is \n",
    "$$\n",
    "\\frac{\\partial Z}{\\partial c_m^n}=\\sum_{i,j,k}^{d_{H_S}^2}\n",
    "\\frac{\\partial Z}{\\partial \\rho_f^i}\n",
    "\\frac{\\partial\\rho_f^i}{\\partial U^{jk}_n}\n",
    "\\frac{\\partial U^{jk}_n}{\\partial c_m^n},\n",
    "$$\n",
    "Where $U_n$ are the Liouville system propagators given by the system Hamiltonian at time step $n$.\n",
    "This expression is depicted diagramatically in Fig S2 of the supplement in reference [Butler2023].\n",
    "\n",
    "The three terms in the product are understood as follows:\n",
    "1. $\\frac{\\partial Z}{\\partial \\rho_f^i}$ : The derivative of the objective function with respect to the final state. This is computed analytically and corresponds to rank-1 tensor in Liouville space.\n",
    "2. $\\frac{\\partial\\rho_f^i}{\\partial U^{jk}_n}$ : The derivative of the final state with respect to the propagator at the $n^{\\text{th}}$ time-step. Due to the linearity of our network, this is the same as the diagram for the time-evolution of the initial state after $N_t$ steps with the propagator(s) at the $n^{\\text{th}}$ timestep removed. The rank of this tensor depends on the order of the Trotterization of the propagators. PT-TEMPO implements a second-order splitting, such that the tensors are rank-$4$.\n",
    "3. $\\frac{\\partial U^{jk}_n}{\\partial c_m}$ : The derivative of a propagator at the $n^{\\text{th}}$ timestep with respect to $m^\\mathrm{th}$ control parameter at the $n^\\text{th}$ timestep. Due to the second Trotterization, there are $2 N$ half-propagators and therefore $2 N$ half-propagator derivatives. These are computed via finite-difference and are of rank-$2$. \n",
    "\n",
    "Expression 2. is not calculated directly. Rather, we perform a forward propagation of the initial state $\\rho_0$ and back propagation of the target derivative $\\frac{\\partial Z}{\\partial \\rho_f^i}$ for $n$ time-steps. The stored tensors are of rank-$2$ with an external 'system' leg which connects to the propagators and an internal 'bond' leg connecting to the PT-MPOs. By joining the bond legs of the appropriate tensors from the forward and back propagations we obtain the rank-$4$ tensor $ \\frac{\\partial Z}{\\partial \\rho_f^i}\n",
    "\\frac{\\partial\\rho_f^i}{\\partial U^{jk}_n}$ which, when contracted with the propagator derivatives $\\frac{\\partial U^{jk}_n}{\\partial c_m}$, gives $\\frac{\\partial Z}{\\partial c_m^n}$.\n",
    "\n",
    "As an example, we model a spin-boson system coupled to an external field and compute the gradient with respect to each parameter."
   ]
  },
  {
   "cell_type": "markdown",
   "metadata": {},
   "source": [
    "# Example - Spin Boson Model\n",
    "\n",
    "### 1. System Definition\n",
    "\n",
    "We choose the system modelled in the supplement, a spin-boson model representing a quantum-dot driven by a laser pulse. We consider a time-dependent system Hamiltonian \n",
    "$$\n",
    "H_S = h_x(t) \\sigma_x + h_z(t) \\sigma_z ,\n",
    "$$\n",
    "where the parameters $h_x(t)$ and $h_z(t)$ represent a set of fields controlling the system dynamics. This means we parametrize the system Hamiltonian with two parameters at each time step, i.e. $m\\in\\{x,z\\}$ and $c_m^n = h_m(n\\, \\delta t)$. A system of this type is represented by a `ParameterizedSystem` object. This object requires a Callable which returns the Hamiltonian for specific parameters. It encapsulates the system dynamics via calculation of the propagators $U^{ij}$ and propagator derivatives $\\frac{\\partial U^{ij}_n}{\\partial c_m^n}$ using the functions `get_propagators` and `get_propagator_derivatives` respectively."
   ]
  },
  {
   "cell_type": "code",
   "execution_count": 3,
   "metadata": {},
   "outputs": [],
   "source": [
    "# function which returns system Hamiltonian for a given set of parameters\n",
    "def discrete_hamiltonian(hx,hz):\n",
    "    return hx*op.sigma('x') + hz*op.sigma('z')\n",
    "\n",
    "# definition of parameterized system\n",
    "system = oqupy.ParameterizedSystem(discrete_hamiltonian)"
   ]
  },
  {
   "cell_type": "markdown",
   "metadata": {},
   "source": [
    "We then provide a $(2*N,M)$-dimensional tuple of parameters which define the value of the fields at each half time-step. For simplicity, we choose a pair of constant fields $h_x=0$ and $h_z=\\pi/T$. We choose a pulse duration $T=5 \\text{ps}^{-1}$ and model over $100$ timesteps. We work in Planck units throughout ($\\hbar = k_B = 1$) and take $\\text{ps}^{-1}$ as units of angular momentum."
   ]
  },
  {
   "cell_type": "code",
   "execution_count": 4,
   "metadata": {},
   "outputs": [],
   "source": [
    "max_time = 5.0\n",
    "N = 50 # number of time steps\n",
    "dt = max_time/N"
   ]
  },
  {
   "cell_type": "code",
   "execution_count": 5,
   "metadata": {},
   "outputs": [
    {
     "data": {
      "text/plain": [
       "(100, 2)"
      ]
     },
     "execution_count": 5,
     "metadata": {},
     "output_type": "execute_result"
    }
   ],
   "source": [
    "h_z = np.ones(2*N) * np.pi / (2 * max_time)\n",
    "h_x = np.zeros(2*N)\n",
    "parameters = np.vstack((h_x,h_z)).T\n",
    "parameters.shape"
   ]
  },
  {
   "cell_type": "markdown",
   "metadata": {},
   "source": [
    "### 2. Process Tensor generation\n",
    "\n",
    "The bath and interaction Hamiltonians are \n",
    "$$\n",
    "H_B = \\sum_k \\omega_k b_k^\\dag b_k \n",
    "$$\n",
    "and \n",
    "$$\n",
    "H_{SB} = \\frac{1}{2} \\sigma_z \\sum_k (g_k b_k^\\dag + g^*_k b_k),\n",
    "$$\n",
    "respectively. The bath interaction terms $g_k$ and $\\omega_k$ are characterised by the super-ohmic spectral density\n",
    "$$\n",
    "J(\\omega)  = 2 \\alpha \\omega^3 \\omega_c^{-2} \\text{exp}(- \\frac{\\omega^2}{\\omega^2_c}).\n",
    "$$\n",
    "with $\\omega_c=3.04 \\text{p s}^{-1}$ and $\\alpha=0.126$.\n",
    "We take the bath to be at $T=5 \\text{K}$. The process tensor is then generated as follows."
   ]
  },
  {
   "cell_type": "code",
   "execution_count": 6,
   "metadata": {},
   "outputs": [],
   "source": [
    "# spectral density parameters\n",
    "alpha = 0.126\n",
    "omega_cutoff = 3.04\n",
    "temperature = 5 * 0.1309 # 1K = 0.1309/ps in natural units\n",
    "\n",
    "# numerical tempo parameters\n",
    "tcut  = 2.0\n",
    "esprel = 10**(-4)\n",
    "\n",
    "correlations = oqupy.PowerLawSD(\n",
    "    alpha=alpha,\n",
    "    zeta=3,\n",
    "    cutoff=omega_cutoff,\n",
    "    cutoff_type='gaussian',\n",
    "    temperature=temperature)\n",
    "bath = oqupy.Bath(op.sigma(\"z\")/2, correlations)\n",
    "\n",
    "tempo_params = oqupy.TempoParameters(dt=dt, tcut=tcut, epsrel=esprel)"
   ]
  },
  {
   "cell_type": "code",
   "execution_count": 7,
   "metadata": {},
   "outputs": [
    {
     "name": "stdout",
     "output_type": "stream",
     "text": [
      "--> PT-TEMPO computation:\n",
      "  8.0%    4 of   50 [###-------------------------------------] 00:00:00"
     ]
    },
    {
     "name": "stdout",
     "output_type": "stream",
     "text": [
      "100.0%   50 of   50 [########################################] 00:00:01\n",
      "Elapsed time: 1.4s\n"
     ]
    }
   ],
   "source": [
    "# process tensor creation\n",
    "process_tensor = oqupy.pt_tempo_compute(\n",
    "    bath=bath,\n",
    "    start_time=0,\n",
    "    end_time=max_time,\n",
    "    parameters=tempo_params\n",
    "    )"
   ]
  },
  {
   "cell_type": "markdown",
   "metadata": {},
   "source": [
    "### 3. Objective Function: The Fidelity\n",
    "\n",
    "For our objective function, we choose the fidelity $\\mathcal{F(\\rho_t,\\rho_f)}$ between a target state $\\rho_t$ and the final state $\\rho_f$. For simplicity, we consider a pure target state $\\rho_t = \\ket{\\sigma}\\bra{\\sigma}$ such that $\\mathcal{F}=\\bra{\\sigma} \\rho_f \\ket{\\sigma}$. In Liouville space, this is expressed as $\\mathcal{F} = \\langle \\langle \\rho_t^T | \\rho_f \\rangle \\rangle = \\sum_i^{d_H^2} \\rho^T_{t,i} \\rho_{f,i}$, where $| \\cdot  \\rangle \\rangle$ denotes a vectorized density matrix and $d_H$ the Hilbert space dimension. The derivative with respect to the final state is then \n",
    "$$\n",
    "\\frac{\\partial \\mathcal{F}}{\\partial \\rho_f} = \\rho_t^T.\n",
    "$$\n",
    "We model the state transfer between an initial state $\\rho_0=\\ket{x+} \\bra{x+}$ and target state $\\rho_t=\\ket{x-} \\bra{x-}$."
   ]
  },
  {
   "cell_type": "code",
   "execution_count": 8,
   "metadata": {},
   "outputs": [],
   "source": [
    "initial_state = op.spin_dm('x+')\n",
    "target_state = op.spin_dm('x-')\n",
    "target_derivative = target_state.T"
   ]
  },
  {
   "cell_type": "markdown",
   "metadata": {},
   "source": [
    "### 4. Adjoint Method\n",
    "\n",
    "Now that we have defined our objective function, environment and system, we are able to perform back propagation in order to compute the gradient and dynamics. This is done via `state_gradient`. The function computes $\\{\\rho(t_n) \\}_{n=0,..,N-1}$ and $\\{ \\frac{\\partial Z}{\\partial \\rho_f^i}\\frac{\\partial\\rho_f^i}{\\partial U^{jk}_n} \\}_{n=0,...,2N-1}$ using a forward and back propagation of $\\rho_0$ and $ \\frac{\\partial Z}{\\partial \\rho_f}$ as outlined in the introduction. It then calculates the propagators and propagator derivatives $\\frac{\\partial U^{ij}_n}{\\partial c_m^n}$ using the parameters and `ParameterizedSystem` object. These are finally combined as in the chain rule to get the derivative of the objective function with respect to each parameter at each timestep $\\{ \\frac{\\partial Z}{\\partial c_m^n} \\}_{m=\\{0,...,M-1\\},\\,n=\\{0,...,2N-1\\}}$. The dictionary returned contains:\n",
    "* `gradient` : the list of gradients $\\{ \\frac{\\partial Z}{\\partial c_m^n} \\}_{m=\\{0,...,M-1\\},\\,n=\\{0,...,2N-1\\}}$ at each half time-step\n",
    "* `gradprop` : the list of tensors $\\{ \\frac{\\partial Z}{\\partial \\rho_f^i}\\frac{\\partial\\rho_f^i}{\\partial U^{jk}_n} \\}_{n=0,...,N-1}$ \n",
    "* `dynamics` : the states and times\n",
    "* `final state` : the final state "
   ]
  },
  {
   "cell_type": "code",
   "execution_count": 9,
   "metadata": {},
   "outputs": [
    {
     "name": "stdout",
     "output_type": "stream",
     "text": [
      "--> Compute forward propagation:\n",
      "100.0%   50 of   50 [########################################] 00:00:00\n",
      "Elapsed time: 0.3s\n",
      "--> Compute backward propagation:\n",
      "100.0%   50 of   50 [########################################] 00:00:00\n",
      "Elapsed time: 0.3s\n",
      "--> Apply chain rule:\n",
      "100.0%   50 of   50 [########################################] 00:00:08\n",
      "Elapsed time: 8.0s\n"
     ]
    }
   ],
   "source": [
    "# forward-backpropagation + combination of derivatives\n",
    "grad_res = oqupy.state_gradient(\n",
    "    system=system,\n",
    "    initial_state=initial_state,\n",
    "    target_derivative=target_derivative,\n",
    "    process_tensors=[process_tensor],\n",
    "    parameters=parameters)"
   ]
  },
  {
   "cell_type": "markdown",
   "metadata": {},
   "source": [
    "We can now plot the dynamics and the gradient:"
   ]
  },
  {
   "cell_type": "code",
   "execution_count": 10,
   "metadata": {},
   "outputs": [
    {
     "data": {
      "image/png": "[encoded data removed]",
      "text/plain": [
       "<Figure size 432x288 with 1 Axes>"
      ]
     },
     "metadata": {
      "needs_background": "light"
     },
     "output_type": "display_data"
    },
    {
     "name": "stdout",
     "output_type": "stream",
     "text": [
      "The fidelity is 0.9012528539245432.\n"
     ]
    }
   ],
   "source": [
    "plt.plot(*grad_res['dynamics'].expectations(op.sigma('x'), real=True))\n",
    "plt.ylabel(r\"$\\langle \\sigma_x \\rangle$\")\n",
    "plt.xlabel(r\"$t$\")\n",
    "plt.show()\n",
    "fidelity = np.real(grad_res['final_state'].flatten() @ target_state.flatten())\n",
    "print(f\"The fidelity is {fidelity}.\")"
   ]
  },
  {
   "cell_type": "code",
   "execution_count": 11,
   "metadata": {},
   "outputs": [
    {
     "data": {
      "image/png": "[encoded data removed]",
      "text/plain": [
       "<Figure size 432x288 with 1 Axes>"
      ]
     },
     "metadata": {
      "needs_background": "light"
     },
     "output_type": "display_data"
    }
   ],
   "source": [
    "plt.figure()\n",
    "plt.plot(grad_res['gradient'][:,0].real,label='x')\n",
    "plt.plot(grad_res['gradient'][:,1].real,label='z')\n",
    "plt.legend()\n",
    "plt.ylabel(r\"$\\frac{\\partial \\mathcal{F}(T)}{\\partial h_m^n}$\",\n",
    "           rotation=0,fontsize=16,labelpad=20)\n",
    "plt.xlabel(r\"half time step $n$\")\n",
    "plt.show()\n"
   ]
  },
  {
   "cell_type": "markdown",
   "metadata": {},
   "source": [
    "Voilà, we have computed the gradient! We can easily plug in another set of system parameters and rerun the calculation to get the gradient for a different field. This is particularly useful for optimisation of the objective function because the long calculation of the process tensor is done only once. We can do lots of faster calculations of $Z$ and $\\frac{\\partial Z}{\\partial c_m}$ for different system parameters until we find an 'optimal' (minima/maxima of $Z$ within some tolerance) set of controls."
   ]
  },
  {
   "cell_type": "markdown",
   "metadata": {},
   "source": []
  }
 ],
 "metadata": {
  "kernelspec": {
   "display_name": "venv",
   "language": "python",
   "name": "python3"
  },
  "language_info": {
   "codemirror_mode": {
    "name": "ipython",
    "version": 3
   },
   "file_extension": ".py",
   "mimetype": "text/x-python",
   "name": "python",
   "nbconvert_exporter": "python",
   "pygments_lexer": "ipython3",
   "version": "3.6.13"
  }
 },
 "nbformat": 4,
 "nbformat_minor": 2
}
